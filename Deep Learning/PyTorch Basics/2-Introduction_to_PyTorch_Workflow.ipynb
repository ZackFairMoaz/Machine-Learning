{
 "cells": [
  {
   "cell_type": "markdown",
   "metadata": {},
   "source": [
    "# PyTorch Workflow\n",
    "6 Steps\n",
    "1. Data (prepare and load)\n",
    "2. Build model\n",
    "3. Fitting model to data\n",
    "4. Making predictions and eval (inference)\n",
    "5. Saving and loading model\n",
    "6. Putting it all together"
   ]
  },
  {
   "cell_type": "code",
   "execution_count": 5,
   "metadata": {},
   "outputs": [
    {
     "data": {
      "text/plain": [
       "'2.1.2+cu121'"
      ]
     },
     "execution_count": 5,
     "metadata": {},
     "output_type": "execute_result"
    }
   ],
   "source": [
    "import torch\n",
    "from torch import nn # all of pytorch building blocks for a neural network\n",
    "import matplotlib.pyplot as plt\n",
    "\n",
    "torch.__version__"
   ]
  },
  {
   "cell_type": "markdown",
   "metadata": {},
   "source": [
    "### 1. Data (prepare and load)"
   ]
  },
  {
   "cell_type": "code",
   "execution_count": 19,
   "metadata": {},
   "outputs": [
    {
     "data": {
      "text/plain": [
       "(tensor([[0.0000],\n",
       "         [0.0200],\n",
       "         [0.0400],\n",
       "         [0.0600],\n",
       "         [0.0800]]),\n",
       " tensor([[0.2000],\n",
       "         [0.2180],\n",
       "         [0.2360],\n",
       "         [0.2540],\n",
       "         [0.2720]]))"
      ]
     },
     "execution_count": 19,
     "metadata": {},
     "output_type": "execute_result"
    }
   ],
   "source": [
    "# create known parameters\n",
    "weight = 0.9\n",
    "bias = 0.2\n",
    "\n",
    "# create \n",
    "start = 0\n",
    "end = 1\n",
    "step =0.02\n",
    "X = torch.arange(start, end, step).unsqueeze(dim=1)\n",
    "y = weight * X + bias\n",
    "\n",
    "X[:5], y[:5]"
   ]
  },
  {
   "cell_type": "code",
   "execution_count": 22,
   "metadata": {},
   "outputs": [
    {
     "data": {
      "text/plain": [
       "(40, 10, 40, 10)"
      ]
     },
     "execution_count": 22,
     "metadata": {},
     "output_type": "execute_result"
    }
   ],
   "source": [
    "# Create train and test split\n",
    "train_split = int(0.8*len(X))\n",
    "X_train, y_train = X[:train_split], y[:train_split]\n",
    "X_test, y_test = X[train_split:], y[train_split:]\n",
    "\n",
    "len(X_train), len(X_test), len(y_train), len(y_test)"
   ]
  },
  {
   "cell_type": "code",
   "execution_count": 53,
   "metadata": {},
   "outputs": [],
   "source": [
    "def plot_prediction(train_data=X_train,\n",
    "                    train_label=y_train,\n",
    "                    test_data=X_test,\n",
    "                    test_label=y_test,\n",
    "                    predictions=None):\n",
    "    \"\"\"\n",
    "    Plots training data, test data and compares predictions.\n",
    "    \"\"\"\n",
    "    plt.figure(figsize=(3, 3))\n",
    "    plt.scatter(train_data, train_label, c='b', s=4, label='Training data')\n",
    "    plt.scatter(test_data, test_label, c='g', s=4, label='Testing data')\n",
    "\n",
    "    if predictions is not None:\n",
    "        plt.scatter(test_data, predictions, c='b', s=4, label='Predictions')\n",
    "    plt.legend(prop={'size':10})\n",
    "    plt.show()"
   ]
  },
  {
   "cell_type": "code",
   "execution_count": 54,
   "metadata": {},
   "outputs": [
    {
     "data": {
      "image/png": "[encoded data removed]",
      "text/plain": [
       "<Figure size 300x300 with 1 Axes>"
      ]
     },
     "metadata": {},
     "output_type": "display_data"
    }
   ],
   "source": [
    "plot_prediction()"
   ]
  },
  {
   "cell_type": "markdown",
   "metadata": {},
   "source": [
    "### 2. Build Model"
   ]
  },
  {
   "cell_type": "code",
   "execution_count": 51,
   "metadata": {},
   "outputs": [],
   "source": [
    "# Create linear regression model\n",
    "\n",
    "class LinearRegressionModel(nn.Module): # we inherit nn.Module = base class for all models in PyTorch\n",
    "    def __init__(self):\n",
    "        super.__init__() # track grad with require_grad\n",
    "        self.weights = nn.Parameter(torch.randn(1, requires_grad=True, dtype = torch.float)) # not needed when copy from net\n",
    "        self.bias = nn.Parameter(torch.randn(1, requires_grad=True, dtype = torch.float)) # not needed when copy from net\n",
    "\n",
    "        # Forward Method to define computation in model\n",
    "        def forward(self, x:torch.Tensor) -> torch.Tensor: # Operation what model does\n",
    "            return self.weights * x + self.bias # Linear regression model  "
   ]
  },
  {
   "cell_type": "code",
   "execution_count": null,
   "metadata": {},
   "outputs": [],
   "source": []
  }
 ],
 "metadata": {
  "kernelspec": {
   "display_name": "Python 3",
   "language": "python",
   "name": "python3"
  },
  "language_info": {
   "codemirror_mode": {
    "name": "ipython",
    "version": 3
   },
   "file_extension": ".py",
   "mimetype": "text/x-python",
   "name": "python",
   "nbconvert_exporter": "python",
   "pygments_lexer": "ipython3",
   "version": "3.11.7"
  }
 },
 "nbformat": 4,
 "nbformat_minor": 2
}
