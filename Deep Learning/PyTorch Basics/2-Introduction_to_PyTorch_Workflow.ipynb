{
 "cells": [
  {
   "cell_type": "markdown",
   "metadata": {},
   "source": [
    "# PyTorch Workflow\n",
    "6 Steps\n",
    "1. Data (prepare and load)\n",
    "2. Build model\n",
    "3. Fitting model to data\n",
    "4. Making predictions and eval (inference)\n",
    "5. Saving and loading model\n",
    "6. Putting it all together"
   ]
  },
  {
   "cell_type": "code",
   "execution_count": 108,
   "metadata": {},
   "outputs": [
    {
     "data": {
      "text/plain": [
       "'2.1.2+cu121'"
      ]
     },
     "execution_count": 108,
     "metadata": {},
     "output_type": "execute_result"
    }
   ],
   "source": [
    "import torch\n",
    "from torch import nn # all of pytorch building blocks for a neural network\n",
    "import matplotlib.pyplot as plt\n",
    "\n",
    "torch.__version__"
   ]
  },
  {
   "cell_type": "markdown",
   "metadata": {},
   "source": [
    "## 1. Data (prepare and load)"
   ]
  },
  {
   "cell_type": "code",
   "execution_count": 109,
   "metadata": {},
   "outputs": [
    {
     "data": {
      "text/plain": [
       "(tensor([[0.0000],\n",
       "         [0.0200],\n",
       "         [0.0400],\n",
       "         [0.0600],\n",
       "         [0.0800]]),\n",
       " tensor([[0.2000],\n",
       "         [0.2180],\n",
       "         [0.2360],\n",
       "         [0.2540],\n",
       "         [0.2720]]))"
      ]
     },
     "execution_count": 109,
     "metadata": {},
     "output_type": "execute_result"
    }
   ],
   "source": [
    "# create known parameters\n",
    "weight = 0.9\n",
    "bias = 0.2\n",
    "\n",
    "# create \n",
    "start = 0\n",
    "end = 1\n",
    "step =0.02\n",
    "X = torch.arange(start, end, step).unsqueeze(dim=1)\n",
    "y = weight * X + bias\n",
    "\n",
    "X[:5], y[:5]"
   ]
  },
  {
   "cell_type": "code",
   "execution_count": 110,
   "metadata": {},
   "outputs": [
    {
     "data": {
      "text/plain": [
       "(40, 10, 40, 10)"
      ]
     },
     "execution_count": 110,
     "metadata": {},
     "output_type": "execute_result"
    }
   ],
   "source": [
    "# Create train and test split\n",
    "train_split = int(0.8*len(X))\n",
    "X_train, y_train = X[:train_split], y[:train_split]\n",
    "X_test, y_test = X[train_split:], y[train_split:]\n",
    "\n",
    "len(X_train), len(X_test), len(y_train), len(y_test)"
   ]
  },
  {
   "cell_type": "code",
   "execution_count": 111,
   "metadata": {},
   "outputs": [],
   "source": [
    "def plot_prediction(train_data=X_train,\n",
    "                    train_label=y_train,\n",
    "                    test_data=X_test,\n",
    "                    test_label=y_test,\n",
    "                    predictions=None):\n",
    "    \"\"\"\n",
    "    Plots training data, test data and compares predictions.\n",
    "    \"\"\"\n",
    "    plt.figure(figsize=(5, 5))\n",
    "    plt.scatter(train_data, train_label, c='b', s=4, label='Training data')\n",
    "    plt.scatter(test_data, test_label, c='g', s=4, label='Testing data')\n",
    "\n",
    "    if predictions is not None:\n",
    "        plt.scatter(test_data, predictions, c='r', s=4, label='Predictions')\n",
    "    plt.legend(prop={'size':10})\n",
    "    plt.show()"
   ]
  },
  {
   "cell_type": "code",
   "execution_count": 112,
   "metadata": {},
   "outputs": [
    {
     "data": {
      "image/png": "[encoded data removed]",
      "text/plain": [
       "<Figure size 500x500 with 1 Axes>"
      ]
     },
     "metadata": {},
     "output_type": "display_data"
    }
   ],
   "source": [
    "plot_prediction()"
   ]
  },
  {
   "cell_type": "markdown",
   "metadata": {},
   "source": [
    "## 2. Build Model\n",
    "\n",
    "Model Essentials\n",
    "* Tensor\n",
    "* torch.autograd\n",
    "* torch.nn\n",
    "* torch.nn.Module\n",
    "* torchvision.models\n",
    "* torch.nn.Parameter\n",
    "* torch.nn.functional\n",
    "* torch.optim\n",
    "* torchmetrics\n",
    "* torch.utils.tensorboard\n",
    "* torch.manual_seed()\n",
    "* def forward()\n",
    "* model.state_dict()\n",
    "* torch.inference_mode()\n",
    "\n",
    "Data Essentials\n",
    "* torchvision.transforms\n",
    "* torch.utils.data.Dataset\n",
    "* torch.utils.data.DataLoader"
   ]
  },
  {
   "cell_type": "code",
   "execution_count": 113,
   "metadata": {},
   "outputs": [],
   "source": [
    "# Create linear regression model\n",
    "\n",
    "class LinearRegressionModel(nn.Module): # we inherit nn.Module = base class for all models in PyTorch\n",
    "    def __init__(self):\n",
    "        super().__init__() # track grad with require_grad\n",
    "        self.weights = nn.Parameter(torch.randn(1, requires_grad=True, dtype = torch.float)) # not needed when copy from net\n",
    "        self.bias = nn.Parameter(torch.randn(1, requires_grad=True, dtype = torch.float)) # not needed when copy from net\n",
    "\n",
    "        # Forward Method to define computation in model\n",
    "    def forward(self, x:torch.Tensor) -> torch.Tensor: # Operation what model does\n",
    "        return self.weights * x + self.bias # Linear regression model  "
   ]
  },
  {
   "cell_type": "code",
   "execution_count": 114,
   "metadata": {},
   "outputs": [
    {
     "data": {
      "text/plain": [
       "OrderedDict([('weights', tensor([0.3367])), ('bias', tensor([0.1288]))])"
      ]
     },
     "execution_count": 114,
     "metadata": {},
     "output_type": "execute_result"
    }
   ],
   "source": [
    "torch.manual_seed(42)\n",
    "model = LinearRegressionModel()\n",
    "model.state_dict()"
   ]
  },
  {
   "cell_type": "code",
   "execution_count": 115,
   "metadata": {},
   "outputs": [
    {
     "data": {
      "text/plain": [
       "tensor([[0.3982, 0.9200],\n",
       "        [0.4049, 0.9380],\n",
       "        [0.4116, 0.9560],\n",
       "        [0.4184, 0.9740],\n",
       "        [0.4251, 0.9920],\n",
       "        [0.4318, 1.0100],\n",
       "        [0.4386, 1.0280],\n",
       "        [0.4453, 1.0460],\n",
       "        [0.4520, 1.0640],\n",
       "        [0.4588, 1.0820]])"
      ]
     },
     "execution_count": 115,
     "metadata": {},
     "output_type": "execute_result"
    }
   ],
   "source": [
    "# to check model predicitive power with inference mode\n",
    "\n",
    "with torch.inference_mode(): # Turns gradient tracking off (replacement for torch.no_grad)\n",
    "    pred = model(X_test)\n",
    "torch.hstack((pred, y_test))"
   ]
  },
  {
   "cell_type": "code",
   "execution_count": 116,
   "metadata": {},
   "outputs": [
    {
     "data": {
      "image/png": "[encoded data removed]",
      "text/plain": [
       "<Figure size 500x500 with 1 Axes>"
      ]
     },
     "metadata": {},
     "output_type": "display_data"
    }
   ],
   "source": [
    "plot_prediction(predictions=pred)"
   ]
  },
  {
   "cell_type": "markdown",
   "metadata": {},
   "source": [
    "## 3. Fitting Model to Data (Training) + 4. Making predictions and eval (inference)\n",
    "\n",
    "### Loss functions(Cost Function, Criterion) used to measure how poorly a models preds are\n",
    "\n",
    "* nn.X where X is L1Loss, MSELoss, CrossEntropyLoss, CTCLoss, NLLLoss, PoissonNLLLoss, KLDivLoss, BCELoss, BCEWithLogitsLoss, MarginRankingLoss, HingeEmbeddingLoss, MultiLabelMarginLoss, SmoothL1Loss, SoftMarginLoss, MultiLabelSoftMarginLoss, CosineEmbeddingLoss, MultiMarginLoss,\n",
    "or TripletMarginLoss\n",
    "\n",
    "### Optimizers used to adjust/update model parameters/weights based on loss\n",
    "                                 \n",
    "* optim.X where X is SGD, Adadelta, Adagrad, Adam, AdamW, SparseAdam, Adamax, ASGD, LBFGS, RMSprop or Rprop\n",
    "\n",
    "Requirements\n",
    "* Loss Function: Func to measure how wrong models preds are\n",
    "* Optimizer: Takes loss into account and adjusts model params\n",
    "* Training and Testing loop"
   ]
  },
  {
   "cell_type": "code",
   "execution_count": 117,
   "metadata": {},
   "outputs": [],
   "source": [
    "loss_fn = nn.L1Loss() # Mean absolute Error\n",
    "optimizer = torch.optim.SGD(params = model.parameters(), lr =0.01) # Stochastic Gradient Descent (lr = level of adjustment/step/changes of paramters per iteration)"
   ]
  },
  {
   "cell_type": "markdown",
   "metadata": {},
   "source": [
    "### Building a training and testing Loop\n",
    "1. Loop through data to do...\n",
    "2. Forward Pass (Data going through function, also called forward propagation)\n",
    "3. Caculate Loss (compare forward pass pred to GT)\n",
    "4. Optimizer zero grad\n",
    "5. Loss Backward (calc grad of each param of model wrt to loss, also called back propagation)\n",
    "6. Optimizer Step (use optim to try to reduce loss)"
   ]
  },
  {
   "cell_type": "code",
   "execution_count": 118,
   "metadata": {},
   "outputs": [
    {
     "name": "stdout",
     "output_type": "stream",
     "text": [
      "Params before training OrderedDict([('weights', tensor([0.3367])), ('bias', tensor([0.1288]))])\n",
      "Epoch: 0 | MAE Train Loss: 0.29088133573532104, MAE Test loss: 0.5590652227401733\n",
      "Epoch: 10 | MAE Train Loss: 0.17969869077205658, MAE Test loss: 0.4273907542228699\n",
      "Epoch: 20 | MAE Train Loss: 0.1209946870803833, MAE Test loss: 0.33139681816101074\n",
      "Epoch: 30 | MAE Train Loss: 0.09691917151212692, MAE Test loss: 0.26871782541275024\n",
      "Epoch: 40 | MAE Train Loss: 0.08677728474140167, MAE Test loss: 0.22921133041381836\n",
      "Epoch: 50 | MAE Train Loss: 0.08142194151878357, MAE Test loss: 0.20473821461200714\n",
      "Epoch: 60 | MAE Train Loss: 0.07748124748468399, MAE Test loss: 0.18829430639743805\n",
      "Epoch: 70 | MAE Train Loss: 0.07399125397205353, MAE Test loss: 0.17727422714233398\n",
      "Epoch: 80 | MAE Train Loss: 0.07050124555826187, MAE Test loss: 0.1662541925907135\n",
      "Epoch: 90 | MAE Train Loss: 0.06702403724193573, MAE Test loss: 0.15592096745967865\n",
      "Epoch: 100 | MAE Train Loss: 0.06358523666858673, MAE Test loss: 0.14764843881130219\n",
      "Epoch: 110 | MAE Train Loss: 0.06015373021364212, MAE Test loss: 0.14006276428699493\n",
      "Epoch: 120 | MAE Train Loss: 0.05672042444348335, MAE Test loss: 0.13179023563861847\n",
      "Epoch: 130 | MAE Train Loss: 0.05328161641955376, MAE Test loss: 0.12351767718791962\n",
      "Epoch: 140 | MAE Train Loss: 0.04985179752111435, MAE Test loss: 0.11593204736709595\n",
      "Epoch: 150 | MAE Train Loss: 0.04641680791974068, MAE Test loss: 0.10765945911407471\n",
      "Epoch: 160 | MAE Train Loss: 0.042978301644325256, MAE Test loss: 0.10007382929325104\n",
      "Epoch: 170 | MAE Train Loss: 0.03954986110329628, MAE Test loss: 0.09180127829313278\n",
      "Epoch: 180 | MAE Train Loss: 0.036113183945417404, MAE Test loss: 0.08352874219417572\n",
      "Epoch: 190 | MAE Train Loss: 0.03267637640237808, MAE Test loss: 0.07594309002161026\n",
      "Epoch: 200 | MAE Train Loss: 0.029247939586639404, MAE Test loss: 0.0676705464720726\n",
      "Epoch: 210 | MAE Train Loss: 0.02580956183373928, MAE Test loss: 0.05939800664782524\n",
      "Epoch: 220 | MAE Train Loss: 0.02237444370985031, MAE Test loss: 0.05181238055229187\n",
      "Epoch: 230 | MAE Train Loss: 0.018944747745990753, MAE Test loss: 0.04353991150856018\n",
      "Epoch: 240 | MAE Train Loss: 0.015505939722061157, MAE Test loss: 0.03526744246482849\n",
      "Epoch: 250 | MAE Train Loss: 0.012072485871613026, MAE Test loss: 0.027681827545166016\n",
      "Epoch: 260 | MAE Train Loss: 0.008641118183732033, MAE Test loss: 0.019409358501434326\n",
      "Epoch: 270 | MAE Train Loss: 0.005202308297157288, MAE Test loss: 0.011136877350509167\n",
      "Epoch: 280 | MAE Train Loss: 0.0017705380450934172, MAE Test loss: 0.003551298286765814\n",
      "Epoch: 290 | MAE Train Loss: 0.00837081391364336, MAE Test loss: 0.005664521362632513\n",
      "Params after training OrderedDict([('weights', tensor([0.8989])), ('bias', tensor([0.2088]))])\n"
     ]
    }
   ],
   "source": [
    "torch.manual_seed(42)\n",
    "\n",
    "epochs = 300 # num of times to pass over data (hyper param like lr)\n",
    "print(f\"Params before training {model.state_dict()}\")\n",
    "\n",
    "#Tracking Different values to compare diff params/models\n",
    "epoch_count = []\n",
    "train_loss_values = []\n",
    "test_loss_values = []\n",
    "\n",
    "#Training\n",
    "for epoch in range(epochs):\n",
    "    # set model to train mode\n",
    "    model.train() # Sets all param that require grad to require grad\n",
    "    # Forward pass\n",
    "    pred = model(X_train)\n",
    "    # Calculate Loss\n",
    "    loss = loss_fn(pred, y_train)\n",
    "    # optimizer zero grad\n",
    "    optimizer.zero_grad() # by default optimizer changes will accumulate so we have to zero them with zero_grad\n",
    "    # Back propagation on loss wrt param of model\n",
    "    loss.backward()\n",
    "    # Step the optimizer (Perform Gradient Descent on all with require_grads = True)\n",
    "    optimizer.step()\n",
    "\n",
    "    #Testing\n",
    "    model.eval() # turns off different settings not needed for eval\n",
    "    with torch.inference_mode(): # turns off grad tracking + few more (not needed for testing)\n",
    "        # Forward pass\n",
    "        test_pred = model(X_test)\n",
    "        # Calculate Test Loss\n",
    "        test_loss = loss_fn(test_pred, y_test)\n",
    "    if epoch % 10 == 0:\n",
    "        epoch_count.append(epoch)\n",
    "        train_loss_values.append(loss)\n",
    "        test_loss_values.append(test_loss)\n",
    "        print(f\"Epoch: {epoch} | MAE Train Loss: {loss}, MAE Test loss: {test_loss}\")\n",
    "\n",
    "print(f\"Params after training {model.state_dict()}\")"
   ]
  },
  {
   "cell_type": "code",
   "execution_count": 119,
   "metadata": {},
   "outputs": [
    {
     "data": {
      "text/plain": [
       "<matplotlib.legend.Legend at 0x22bb074e810>"
      ]
     },
     "execution_count": 119,
     "metadata": {},
     "output_type": "execute_result"
    },
    {
     "data": {
      "image/png": "[encoded data removed]",
      "text/plain": [
       "<Figure size 640x480 with 1 Axes>"
      ]
     },
     "metadata": {},
     "output_type": "display_data"
    }
   ],
   "source": [
    "np_loss = torch.tensor(train_loss_values).numpy()\n",
    "np_test_loss = torch.tensor(test_loss_values).numpy()\n",
    "plt.plot(epoch_count, np_loss, label=\"Train Loss\")\n",
    "plt.plot(epoch_count, np_test_loss, label=\"Test Loss\")\n",
    "plt.title(\"Training an Testing Loss Curve\")\n",
    "plt.ylabel(\"Loss\")\n",
    "plt.xlabel(\"Epochs\")\n",
    "plt.legend()"
   ]
  },
  {
   "cell_type": "code",
   "execution_count": 120,
   "metadata": {},
   "outputs": [
    {
     "data": {
      "text/plain": [
       "tensor([[0.9279, 0.9200],\n",
       "        [0.9459, 0.9380],\n",
       "        [0.9639, 0.9560],\n",
       "        [0.9818, 0.9740],\n",
       "        [0.9998, 0.9920],\n",
       "        [1.0178, 1.0100],\n",
       "        [1.0358, 1.0280],\n",
       "        [1.0538, 1.0460],\n",
       "        [1.0717, 1.0640],\n",
       "        [1.0897, 1.0820]])"
      ]
     },
     "execution_count": 120,
     "metadata": {},
     "output_type": "execute_result"
    }
   ],
   "source": [
    "with torch.inference_mode():\n",
    "    pred = model(X_test)\n",
    "torch.hstack((pred, y_test))"
   ]
  },
  {
   "cell_type": "code",
   "execution_count": 121,
   "metadata": {},
   "outputs": [
    {
     "data": {
      "image/png": "[encoded data removed]",
      "text/plain": [
       "<Figure size 500x500 with 1 Axes>"
      ]
     },
     "metadata": {},
     "output_type": "display_data"
    }
   ],
   "source": [
    "plot_prediction(predictions=pred)"
   ]
  },
  {
   "cell_type": "markdown",
   "metadata": {},
   "source": [
    "## 5. Saving Model in PyTorch\n",
    "1. 'torch.save()' allow to save a PyTorch model in pickle format\n",
    "2. 'torch.load()' allow to load a save PyTorch object\n",
    "3. 'torch.nn.Module.load_state_dict()' load a models saved state dict (params)"
   ]
  },
  {
   "cell_type": "code",
   "execution_count": 122,
   "metadata": {},
   "outputs": [
    {
     "name": "stdout",
     "output_type": "stream",
     "text": [
      "Saving model to: intro_models\\2_pytorch_workflow_model_0.pth\n"
     ]
    }
   ],
   "source": [
    "# Saving our PyTorch Model\n",
    "from pathlib import Path\n",
    "\n",
    "# 1. Create model dir\n",
    "MODEL_PATH = Path(\"intro_models\")\n",
    "MODEL_PATH.mkdir(parents=True, exist_ok=True)\n",
    "\n",
    "# 2. Create model save path\n",
    "MODEL_NAME = \"2_pytorch_workflow_model_0.pth\" # pt or pth file extension\n",
    "MODEL_SAVE_PATH = MODEL_PATH / MODEL_NAME\n",
    "\n",
    "# 3. Save the model state dict (dict of weights and params)\n",
    "print(f\"Saving model to: {MODEL_SAVE_PATH}\")\n",
    "torch.save(obj=model.state_dict(), f=MODEL_SAVE_PATH)"
   ]
  },
  {
   "cell_type": "code",
   "execution_count": 123,
   "metadata": {},
   "outputs": [
    {
     "data": {
      "text/plain": [
       "<All keys matched successfully>"
      ]
     },
     "execution_count": 123,
     "metadata": {},
     "output_type": "execute_result"
    }
   ],
   "source": [
    "# Loading our PyTorch Model\n",
    "load_model = LinearRegressionModel()\n",
    "load_model.load_state_dict(torch.load(f=MODEL_SAVE_PATH))"
   ]
  },
  {
   "cell_type": "code",
   "execution_count": 124,
   "metadata": {},
   "outputs": [
    {
     "data": {
      "text/plain": [
       "tensor([[0.9279, 0.9279],\n",
       "        [0.9459, 0.9459],\n",
       "        [0.9639, 0.9639],\n",
       "        [0.9818, 0.9818],\n",
       "        [0.9998, 0.9998],\n",
       "        [1.0178, 1.0178],\n",
       "        [1.0358, 1.0358],\n",
       "        [1.0538, 1.0538],\n",
       "        [1.0717, 1.0717],\n",
       "        [1.0897, 1.0897]])"
      ]
     },
     "execution_count": 124,
     "metadata": {},
     "output_type": "execute_result"
    }
   ],
   "source": [
    "# Making some predictions to check same weights or not\n",
    "load_model.eval()\n",
    "with torch.inference_mode():\n",
    "    load_model_pred = load_model(X_test)\n",
    "torch.hstack((load_model_pred, pred))"
   ]
  },
  {
   "cell_type": "markdown",
   "metadata": {},
   "source": [
    "## 6. Putting it all together"
   ]
  },
  {
   "cell_type": "code",
   "execution_count": 125,
   "metadata": {},
   "outputs": [],
   "source": [
    "# Putting it all back together\n",
    "import torch\n",
    "from torch import nn\n",
    "import matplotlib.pyplot as plt \n",
    "from pathlib import Path"
   ]
  },
  {
   "cell_type": "code",
   "execution_count": 137,
   "metadata": {},
   "outputs": [
    {
     "data": {
      "image/png": "[encoded data removed]",
      "text/plain": [
       "<Figure size 500x500 with 1 Axes>"
      ]
     },
     "metadata": {},
     "output_type": "display_data"
    },
    {
     "name": "stdout",
     "output_type": "stream",
     "text": [
      "Epoch: 0 | MAE Train Loss: 0.5564687252044678, MAE Test loss: 0.5689631104469299\n",
      "Epoch: 10 | MAE Train Loss: 0.4396587014198303, MAE Test loss: 0.4357529878616333\n",
      "Epoch: 20 | MAE Train Loss: 0.32284867763519287, MAE Test loss: 0.30254286527633667\n",
      "Epoch: 30 | MAE Train Loss: 0.2060386836528778, MAE Test loss: 0.16933278739452362\n",
      "Epoch: 40 | MAE Train Loss: 0.08922868967056274, MAE Test loss: 0.036122679710388184\n",
      "Epoch: 50 | MAE Train Loss: 0.02032984420657158, MAE Test loss: 0.043520912528038025\n",
      "Epoch: 60 | MAE Train Loss: 0.01788131520152092, MAE Test loss: 0.041480302810668945\n",
      "Epoch: 70 | MAE Train Loss: 0.015701737254858017, MAE Test loss: 0.036896467208862305\n",
      "Epoch: 80 | MAE Train Loss: 0.013522160239517689, MAE Test loss: 0.032312631607055664\n",
      "Epoch: 90 | MAE Train Loss: 0.011346532963216305, MAE Test loss: 0.02689117193222046\n",
      "Epoch: 100 | MAE Train Loss: 0.009170906618237495, MAE Test loss: 0.021469689905643463\n",
      "Epoch: 110 | MAE Train Loss: 0.006995281204581261, MAE Test loss: 0.01604822278022766\n",
      "Epoch: 120 | MAE Train Loss: 0.004827715456485748, MAE Test loss: 0.010636851191520691\n",
      "Epoch: 130 | MAE Train Loss: 0.0026456722989678383, MAE Test loss: 0.005215376615524292\n",
      "Epoch: 140 | MAE Train Loss: 0.00409748125821352, MAE Test loss: 0.003999359905719757\n",
      "Epoch: 150 | MAE Train Loss: 0.00409748125821352, MAE Test loss: 0.003999359905719757\n",
      "Epoch: 160 | MAE Train Loss: 0.00409748125821352, MAE Test loss: 0.003999359905719757\n",
      "Epoch: 170 | MAE Train Loss: 0.00409748125821352, MAE Test loss: 0.003999359905719757\n",
      "Epoch: 180 | MAE Train Loss: 0.00409748125821352, MAE Test loss: 0.003999359905719757\n",
      "Epoch: 190 | MAE Train Loss: 0.00409748125821352, MAE Test loss: 0.003999359905719757\n",
      "Saving model to: intro_models\\2_pytorch_workflow_model_0.pt\n",
      "OrderedDict([('linear_layer.weight', tensor([[0.6869]], device='cuda:0')), ('linear_layer.bias', tensor([0.3013], device='cuda:0'))])\n"
     ]
    },
    {
     "data": {
      "text/plain": [
       "tensor([[True],\n",
       "        [True],\n",
       "        [True],\n",
       "        [True],\n",
       "        [True],\n",
       "        [True],\n",
       "        [True],\n",
       "        [True]], device='cuda:0')"
      ]
     },
     "execution_count": 137,
     "metadata": {},
     "output_type": "execute_result"
    }
   ],
   "source": [
    "device = \"cuda\" if torch.cuda.is_available else \"cpu\" # device agnostic code for model\n",
    "\n",
    "X = torch.arange(start=0.1,end=0.9, step=0.02).unsqueeze(dim=1)\n",
    "y = 0.7 * X + 0.3\n",
    "\n",
    "# device agnostic code for data\n",
    "train_split = int(len(X)* 0.8)\n",
    "X_train, y_train = X[:train_split].to(device), y[:train_split].to(device)\n",
    "X_test, y_test = X[train_split:].to(device), y[train_split:].to(device)\n",
    "\n",
    "plot_prediction()\n",
    "\n",
    "class LinearRegres(nn.Module):\n",
    "    def __init__(self):\n",
    "        super().__init__()\n",
    "        self.linear_layer = nn.Linear(in_features=1, out_features=1)\n",
    "\n",
    "    def forward(self, x:torch.Tensor) -> torch.Tensor:\n",
    "        return self.linear_layer(x)\n",
    "\n",
    "torch.manual_seed(42)\n",
    "\n",
    "model_self = LinearRegres()\n",
    "model_self.to(device)\n",
    "\n",
    "loss_fn = nn.L1Loss()\n",
    "optimizer = torch.optim.SGD(params=model_self.parameters(), lr=0.01)\n",
    "\n",
    "epochs = 200\n",
    "\n",
    "for epoch in range(epochs):\n",
    "    model_self.train()\n",
    "    pred = model_self(X_train) # forward pass \n",
    "    loss = loss_fn(pred, y_train) # calculate loss\n",
    "    optimizer.zero_grad() # set grads to zero so no accumulation of grad\n",
    "    loss.backward() # backward prop\n",
    "    optimizer.step() # update parameters\n",
    "\n",
    "    model_self.eval()\n",
    "    with torch.inference_mode():\n",
    "        test_pred = model_self(X_test)\n",
    "        test_loss = loss_fn(test_pred, y_test)\n",
    "    if epoch % 10 == 0:\n",
    "        print(f\"Epoch: {epoch} | MAE Train Loss: {loss}, MAE Test loss: {test_loss}\")\n",
    "\n",
    "model_self.eval()\n",
    "with torch.inference_mode():\n",
    "     y_preds = model_self(X_test)\n",
    "\n",
    "MODEL_PATH = Path(\"intro_models\")\n",
    "MODEL_PATH.mkdir(parents=True, exist_ok=True)\n",
    "MODEL_NAME = \"2_pytorch_workflow_model_0.pt\"\n",
    "MODEL_SAVE_PATH = MODEL_PATH / MODEL_NAME\n",
    "print(f\"Saving model to: {MODEL_SAVE_PATH}\")\n",
    "torch.save(obj=model_self.state_dict(), f=MODEL_SAVE_PATH)\n",
    "\n",
    "loaded_model_self = LinearRegres()\n",
    "loaded_model_self.load_state_dict(torch.load(MODEL_SAVE_PATH))\n",
    "loaded_model_self.to(device)\n",
    "\n",
    "next(loaded_model_self.parameters()).device\n",
    "print(loaded_model_self.state_dict())\n",
    "\n",
    "loaded_model_self.eval()\n",
    "with torch.inference_mode():\n",
    "    loaded_model_preds = loaded_model_self(X_test)\n",
    "y_preds == loaded_model_preds\n"
   ]
  },
  {
   "cell_type": "code",
   "execution_count": null,
   "metadata": {},
   "outputs": [],
   "source": []
  }
 ],
 "metadata": {
  "kernelspec": {
   "display_name": "Python 3",
   "language": "python",
   "name": "python3"
  },
  "language_info": {
   "codemirror_mode": {
    "name": "ipython",
    "version": 3
   },
   "file_extension": ".py",
   "mimetype": "text/x-python",
   "name": "python",
   "nbconvert_exporter": "python",
   "pygments_lexer": "ipython3",
   "version": "3.11.7"
  }
 },
 "nbformat": 4,
 "nbformat_minor": 2
}
